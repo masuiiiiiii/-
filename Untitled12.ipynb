{
  "nbformat": 4,
  "nbformat_minor": 0,
  "metadata": {
    "colab": {
      "provenance": [],
      "authorship_tag": "ABX9TyPWaGAvfGKhln/vDO+XhmT3",
      "include_colab_link": true
    },
    "kernelspec": {
      "name": "python3",
      "display_name": "Python 3"
    },
    "language_info": {
      "name": "python"
    }
  },
  "cells": [
    {
      "cell_type": "markdown",
      "metadata": {
        "id": "view-in-github",
        "colab_type": "text"
      },
      "source": [
        "<a href=\"https://colab.research.google.com/github/masuiiiiiii/-/blob/main/Untitled12.ipynb\" target=\"_parent\"><img src=\"https://colab.research.google.com/assets/colab-badge.svg\" alt=\"Open In Colab\"/></a>"
      ]
    },
    {
      "cell_type": "code",
      "source": [
        "a = 1\n",
        "b = 1\n",
        "\n",
        "print(\"# if分岐1\")\n",
        "if a == 1:\n",
        "    print(\"aの値は1です\")\n",
        "\n",
        "print(\"# if分岐2\")\n",
        "if a == 1 and b == 1:\n",
        "    print(\"aもbも値は1です\")\n",
        "elif b == 0:\n",
        "    print(\"bの値は0です\")\n",
        "else:\n",
        "    print(\"aとbの値が想定外です\")\n",
        "\n",
        "print(\"# if分岐3\")\n",
        "b = 0\n",
        "if a == 1 and b == 1:\n",
        "    print(\"aもbも値は1です\")\n",
        "elif b == 0:\n",
        "    print(\"bの値は0です\")\n",
        "else:\n",
        "    print(\"aとbの値が想定外です\")\n",
        "\n",
        "print(\"# if分岐4\")\n",
        "a = 0\n",
        "b = 1\n",
        "if a == 1 and b == 1:\n",
        "    print(\"aもbも値は1です\")\n",
        "elif b == 0:\n",
        "    print(\"bの値は0です\")\n",
        "else:\n",
        "    print(\"値が想定外です\")"
      ],
      "metadata": {
        "colab": {
          "base_uri": "https://localhost:8080/"
        },
        "id": "QqkJZ_hvuue7",
        "outputId": "c8b8a186-873a-40ca-ddc6-71ee0a58defb"
      },
      "execution_count": 2,
      "outputs": [
        {
          "output_type": "stream",
          "name": "stdout",
          "text": [
            "# if分岐1\n",
            "aの値は1です\n",
            "# if分岐2\n",
            "aもbも値は1です\n",
            "# if分岐3\n",
            "bの値は0です\n",
            "# if分岐4\n",
            "値が想定外です\n"
          ]
        }
      ]
    }
  ]
}